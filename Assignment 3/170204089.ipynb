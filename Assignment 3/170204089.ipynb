{
  "nbformat": 4,
  "nbformat_minor": 0,
  "metadata": {
    "colab": {
      "name": "170204089.ipynb",
      "provenance": []
    },
    "kernelspec": {
      "name": "python3",
      "display_name": "Python 3"
    },
    "language_info": {
      "name": "python"
    }
  },
  "cells": [
    {
      "cell_type": "code",
      "execution_count": 11,
      "metadata": {
        "id": "-c0uEsZxl_lC"
      },
      "outputs": [],
      "source": [
        "import numpy as np\n",
        "import pandas as pd\n",
        "import matplotlib.pyplot as plt\n",
        "import math"
      ]
    },
    {
      "cell_type": "code",
      "source": [
        "import matplotlib.pyplot as plt\n",
        "import pandas as pd\n",
        "import numpy as np\n",
        "\n",
        "#Sampling training data\n",
        "xd,yd,zd = np.loadtxt('/content/drive/MyDrive/train_knn.txt',unpack=True, delimiter=',')\n",
        "print(type(xd),xd)\n",
        "print(yd)\n",
        "print(zd)"
      ],
      "metadata": {
        "id": "OL_ssRJxpYP8",
        "outputId": "d929b1d7-04c3-4255-8f92-3074a0a870e4",
        "colab": {
          "base_uri": "https://localhost:8080/"
        }
      },
      "execution_count": 12,
      "outputs": [
        {
          "output_type": "stream",
          "name": "stdout",
          "text": [
            "<class 'numpy.ndarray'> [7. 7. 6. 7. 7. 6. 6. 3. 2. 3. 4. 3. 4. 1.]\n",
            "[7. 4. 4. 5. 6. 7. 6. 4. 3. 2. 3. 3. 4. 4.]\n",
            "[1. 1. 1. 1. 1. 1. 1. 2. 2. 2. 2. 2. 2. 2.]\n"
          ]
        }
      ]
    },
    {
      "cell_type": "code",
      "source": [
        "from google.colab import drive\n",
        "drive.mount('/content/drive')"
      ],
      "metadata": {
        "id": "K6O9G8qz15AJ",
        "outputId": "127a5fff-7fe6-4a79-ed09-38b5f539503f",
        "colab": {
          "base_uri": "https://localhost:8080/"
        }
      },
      "execution_count": 13,
      "outputs": [
        {
          "output_type": "stream",
          "name": "stdout",
          "text": [
            "Drive already mounted at /content/drive; to attempt to forcibly remount, call drive.mount(\"/content/drive\", force_remount=True).\n"
          ]
        }
      ]
    },
    {
      "cell_type": "code",
      "source": [
        "# Train data \n",
        "datacl = np.zeros((len(xd),3))\n",
        "print(datacl.shape, datacl.ndim)\n",
        "\n",
        "for h in range(len(xd)):\n",
        "    datacl[h][0]=xd[h]\n",
        "    datacl[h][1]=yd[h]\n",
        "    datacl[h][2]=zd[h]\n",
        "print(datacl, type(datacl))  "
      ],
      "metadata": {
        "id": "X78Ltuxw3cx8",
        "outputId": "00203172-50a4-4944-f20d-4ac883037d28",
        "colab": {
          "base_uri": "https://localhost:8080/"
        }
      },
      "execution_count": 14,
      "outputs": [
        {
          "output_type": "stream",
          "name": "stdout",
          "text": [
            "(14, 3) 2\n",
            "[[7. 7. 1.]\n",
            " [7. 4. 1.]\n",
            " [6. 4. 1.]\n",
            " [7. 5. 1.]\n",
            " [7. 6. 1.]\n",
            " [6. 7. 1.]\n",
            " [6. 6. 1.]\n",
            " [3. 4. 2.]\n",
            " [2. 3. 2.]\n",
            " [3. 2. 2.]\n",
            " [4. 3. 2.]\n",
            " [3. 3. 2.]\n",
            " [4. 4. 2.]\n",
            " [1. 4. 2.]] <class 'numpy.ndarray'>\n"
          ]
        }
      ]
    },
    {
      "cell_type": "code",
      "source": [
        "#Test Data before classification\n",
        "xt,yt = np.loadtxt('/content/drive/MyDrive/test_knn.txt',unpack=True, delimiter=',')\n",
        "data = np.zeros((len(xt),2))\n",
        "print(data.shape, data.ndim)\n",
        "\n",
        "for h in range(len(xt)):\n",
        "    data[h][0]=xt[h]\n",
        "    data[h][1]=yt[h]\n",
        "print(data, type(data))"
      ],
      "metadata": {
        "id": "R7TZ6cjo3jyz",
        "outputId": "763bf831-4c6d-4bb8-9c58-d2a228492a65",
        "colab": {
          "base_uri": "https://localhost:8080/"
        }
      },
      "execution_count": 15,
      "outputs": [
        {
          "output_type": "stream",
          "name": "stdout",
          "text": [
            "(9, 2) 2\n",
            "[[3. 7.]\n",
            " [7. 7.]\n",
            " [4. 3.]\n",
            " [2. 8.]\n",
            " [3. 5.]\n",
            " [1. 2.]\n",
            " [4. 8.]\n",
            " [8. 3.]\n",
            " [8. 4.]] <class 'numpy.ndarray'>\n"
          ]
        }
      ]
    },
    {
      "cell_type": "code",
      "source": [
        "k = input(\"Enter your value: \") \n",
        "k=int(k)\n",
        "cl=[]\n",
        "# calculate the Euclidean distance between two vectors\n",
        "def euclidean_distance(row1, row2):\n",
        "    distance = 0.0\n",
        "    for i in range(len(row1)-1):\n",
        "        distance += (row1[i] - row2[i])**2\n",
        "    return np.sqrt(distance)\n",
        "\n",
        "# Locate the most similar neighbors\n",
        "def get_neighbors(train, test_row, num_neighbors):\n",
        "    distances = list()\n",
        "    for train_row in train:\n",
        "        dist = euclidean_distance(train_row, test_row)\n",
        "        distances.append((train_row, dist))\n",
        "        #index[1]=dist \n",
        "    distances.sort(key=lambda index: index[1])\n",
        "    neighbors = list()\n",
        "    for i in range(num_neighbors):\n",
        "        neighbors.append((distances[i][0],distances[i][1]))\n",
        "    return neighbors\n",
        "\n",
        "# Make a classification prediction with neighbors\n",
        "def predict_classification(train, test_row, num_neighbors):\n",
        "    neighbors = get_neighbors(train, test_row, num_neighbors)\n",
        "    cnt=0\n",
        "    print('TestPoint: ',test_row[0],',',test_row[1])\n",
        "    for neighbor in neighbors:\n",
        "        cnt=cnt+1\n",
        "        print('Distance',cnt,':%.3f'%neighbor[1],'\\tclass:',neighbor[0][-1])\n",
        "    output_values = [row[0][-1] for row in neighbors]\n",
        "    #max among set of clases count\n",
        "    prediction = max(set(output_values), key=output_values.count)\n",
        "    return prediction\n",
        "\n",
        "for n in range(len(data)):\n",
        "    prediction = predict_classification(datacl, data[n], k)\n",
        "    cl.append(prediction)\n",
        "    print('Predicted Class: %d' % (prediction))\n",
        "    print()"
      ],
      "metadata": {
        "id": "-uLMaHaM34nm",
        "outputId": "35960501-c500-418e-e20c-f2f2133185dd",
        "colab": {
          "base_uri": "https://localhost:8080/"
        }
      },
      "execution_count": 16,
      "outputs": [
        {
          "output_type": "stream",
          "name": "stdout",
          "text": [
            "Enter your value: 5\n",
            "TestPoint:  3.0 , 7.0\n",
            "Distance 1 :3.000 \tclass: 1.0\n",
            "Distance 2 :3.000 \tclass: 2.0\n",
            "Distance 3 :3.162 \tclass: 1.0\n",
            "Distance 4 :3.162 \tclass: 2.0\n",
            "Distance 5 :3.606 \tclass: 2.0\n",
            "Predicted Class: 2\n",
            "\n",
            "TestPoint:  7.0 , 7.0\n",
            "Distance 1 :0.000 \tclass: 1.0\n",
            "Distance 2 :1.000 \tclass: 1.0\n",
            "Distance 3 :1.000 \tclass: 1.0\n",
            "Distance 4 :1.414 \tclass: 1.0\n",
            "Distance 5 :2.000 \tclass: 1.0\n",
            "Predicted Class: 1\n",
            "\n",
            "TestPoint:  4.0 , 3.0\n",
            "Distance 1 :0.000 \tclass: 2.0\n",
            "Distance 2 :1.000 \tclass: 2.0\n",
            "Distance 3 :1.000 \tclass: 2.0\n",
            "Distance 4 :1.414 \tclass: 2.0\n",
            "Distance 5 :1.414 \tclass: 2.0\n",
            "Predicted Class: 2\n",
            "\n",
            "TestPoint:  2.0 , 8.0\n",
            "Distance 1 :4.123 \tclass: 1.0\n",
            "Distance 2 :4.123 \tclass: 2.0\n",
            "Distance 3 :4.123 \tclass: 2.0\n",
            "Distance 4 :4.472 \tclass: 1.0\n",
            "Distance 5 :4.472 \tclass: 2.0\n",
            "Predicted Class: 2\n",
            "\n",
            "TestPoint:  3.0 , 5.0\n",
            "Distance 1 :1.000 \tclass: 2.0\n",
            "Distance 2 :1.414 \tclass: 2.0\n",
            "Distance 3 :2.000 \tclass: 2.0\n",
            "Distance 4 :2.236 \tclass: 2.0\n",
            "Distance 5 :2.236 \tclass: 2.0\n",
            "Predicted Class: 2\n",
            "\n",
            "TestPoint:  1.0 , 2.0\n",
            "Distance 1 :1.414 \tclass: 2.0\n",
            "Distance 2 :2.000 \tclass: 2.0\n",
            "Distance 3 :2.000 \tclass: 2.0\n",
            "Distance 4 :2.236 \tclass: 2.0\n",
            "Distance 5 :2.828 \tclass: 2.0\n",
            "Predicted Class: 2\n",
            "\n",
            "TestPoint:  4.0 , 8.0\n",
            "Distance 1 :2.236 \tclass: 1.0\n",
            "Distance 2 :2.828 \tclass: 1.0\n",
            "Distance 3 :3.162 \tclass: 1.0\n",
            "Distance 4 :3.606 \tclass: 1.0\n",
            "Distance 5 :4.000 \tclass: 2.0\n",
            "Predicted Class: 1\n",
            "\n",
            "TestPoint:  8.0 , 3.0\n",
            "Distance 1 :1.414 \tclass: 1.0\n",
            "Distance 2 :2.236 \tclass: 1.0\n",
            "Distance 3 :2.236 \tclass: 1.0\n",
            "Distance 4 :3.162 \tclass: 1.0\n",
            "Distance 5 :3.606 \tclass: 1.0\n",
            "Predicted Class: 1\n",
            "\n",
            "TestPoint:  8.0 , 4.0\n",
            "Distance 1 :1.000 \tclass: 1.0\n",
            "Distance 2 :1.414 \tclass: 1.0\n",
            "Distance 3 :2.000 \tclass: 1.0\n",
            "Distance 4 :2.236 \tclass: 1.0\n",
            "Distance 5 :2.828 \tclass: 1.0\n",
            "Predicted Class: 1\n",
            "\n"
          ]
        }
      ]
    },
    {
      "cell_type": "code",
      "source": [
        "#test data with predicted class\n",
        "dataP = np.zeros((len(data),3))\n",
        "\n",
        "for h in range(len(data)):\n",
        "    dataP[h][0]=data[h][0]\n",
        "    dataP[h][1]=data[h][1]\n",
        "    dataP[h][2]=cl[h]\n",
        "print(dataP, type(dataP))  "
      ],
      "metadata": {
        "id": "tZrAOBOL4OuU",
        "outputId": "4087e232-bd67-41bb-fcea-c6b707cf8786",
        "colab": {
          "base_uri": "https://localhost:8080/"
        }
      },
      "execution_count": 17,
      "outputs": [
        {
          "output_type": "stream",
          "name": "stdout",
          "text": [
            "[[3. 7. 2.]\n",
            " [7. 7. 1.]\n",
            " [4. 3. 2.]\n",
            " [2. 8. 2.]\n",
            " [3. 5. 2.]\n",
            " [1. 2. 2.]\n",
            " [4. 8. 1.]\n",
            " [8. 3. 1.]\n",
            " [8. 4. 1.]] <class 'numpy.ndarray'>\n"
          ]
        }
      ]
    },
    {
      "cell_type": "code",
      "source": [
        "plt.xlabel('x')\n",
        "plt.ylabel('y')\n",
        "for m in range(len(datacl)):\n",
        "    if datacl[m][2]==1:\n",
        "        xc1=plt.scatter(datacl[m][0], datacl[m][1], color='green')\n",
        "    elif datacl[m][2]==2:\n",
        "        xc2=plt.scatter(datacl[m][0], datacl[m][1], marker='*', color='#184DD5')\n",
        "        \n",
        "for n in range(len(dataP)):\n",
        "    if dataP[n][2]==1:\n",
        "        xtc1=plt.scatter(dataP[n][0], dataP[n][1],marker='x', color='red')\n",
        "    elif dataP[n][2]==2:\n",
        "        xtc2=plt.scatter(dataP[n][0], dataP[n][1], marker='s', color='blue')\n",
        "        \n",
        "plt.legend([xc1, xc2, xtc1, xtc2], [\"Train class1\", \"Train class2\", \"Test class1\", \"Test class2\"])\n",
        "plt.show()"
      ],
      "metadata": {
        "id": "B5NjHD1x4gHr",
        "outputId": "f58d91c0-070c-465a-f7b5-c1ac19ad9a83",
        "colab": {
          "base_uri": "https://localhost:8080/",
          "height": 279
        }
      },
      "execution_count": 20,
      "outputs": [
        {
          "output_type": "display_data",
          "data": {
            "image/png": "[encoded data removed]",
            "text/plain": [
              "<Figure size 432x288 with 1 Axes>"
            ]
          },
          "metadata": {
            "needs_background": "light"
          }
        }
      ]
    }
  ]
}